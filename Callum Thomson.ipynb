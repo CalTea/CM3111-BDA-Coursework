{
 "cells": [
  {
   "cell_type": "markdown",
   "metadata": {},
   "source": [
    "# Diabetes Risk Dataset\n",
    "\n",
    "## Overview\n",
    "This dataset goes over various factors such as age, gender and any pre-existing conditions, to try and predict diabetes at an early stage.\n",
    " "
   ]
  },
  {
   "cell_type": "markdown",
   "metadata": {},
   "source": [
    "###  Objective\n",
    "As stated in the overview, the objective of this project is to create a model which can accuratly predict diabetes as early as possible"
   ]
  },
  {
   "cell_type": "markdown",
   "metadata": {},
   "source": [
    "### Dataset Source\n",
    "The original untampered dataset can be found here: https://archive.ics.uci.edu/ml/datasets/Early+stage+diabetes+risk+prediction+dataset.\n"
   ]
  },
  {
   "cell_type": "markdown",
   "metadata": {},
   "source": [
    "## Dataset Exploration"
   ]
  },
  {
   "cell_type": "code",
   "execution_count": 190,
   "metadata": {},
   "outputs": [],
   "source": [
    "#Import Libraries\n",
    "import pandas as pd\n",
    "import numpy as np\n",
    "from sklearn import preprocessing\n",
    "import seaborn as sns\n",
    "import matplotlib.pyplot as plt\n",
    "from sklearn.model_selection import train_test_split\n",
    "from sklearn.linear_model import LogisticRegression\n",
    "from sklearn.svm import SVC\n",
    "from sklearn.metrics import classification_report, confusion_matrix\n",
    "from sklearn.metrics import precision_score\n",
    "from sklearn.metrics import recall_score\n",
    "from sklearn.metrics import f1_score\n",
    "from sklearn.naive_bayes import GaussianNB"
   ]
  },
  {
   "cell_type": "code",
   "execution_count": 111,
   "metadata": {},
   "outputs": [
    {
     "data": {
      "text/html": [
       "<div>\n",
       "<style scoped>\n",
       "    .dataframe tbody tr th:only-of-type {\n",
       "        vertical-align: middle;\n",
       "    }\n",
       "\n",
       "    .dataframe tbody tr th {\n",
       "        vertical-align: top;\n",
       "    }\n",
       "\n",
       "    .dataframe thead th {\n",
       "        text-align: right;\n",
       "    }\n",
       "</style>\n",
       "<table border=\"1\" class=\"dataframe\">\n",
       "  <thead>\n",
       "    <tr style=\"text-align: right;\">\n",
       "      <th></th>\n",
       "      <th>Age</th>\n",
       "      <th>Gender</th>\n",
       "      <th>Polyuria</th>\n",
       "      <th>Polydipsia</th>\n",
       "      <th>sudden weight loss</th>\n",
       "      <th>weakness</th>\n",
       "      <th>Polyphagia</th>\n",
       "      <th>Genital thrush</th>\n",
       "      <th>visual blurring</th>\n",
       "      <th>Itching</th>\n",
       "      <th>Irritability</th>\n",
       "      <th>delayed healing</th>\n",
       "      <th>partial paresis</th>\n",
       "      <th>muscle stiffness</th>\n",
       "      <th>Alopecia</th>\n",
       "      <th>Obesity</th>\n",
       "      <th>class</th>\n",
       "    </tr>\n",
       "  </thead>\n",
       "  <tbody>\n",
       "    <tr>\n",
       "      <th>0</th>\n",
       "      <td>40</td>\n",
       "      <td>Male</td>\n",
       "      <td>No</td>\n",
       "      <td>Yes</td>\n",
       "      <td>No</td>\n",
       "      <td>Yes</td>\n",
       "      <td>No</td>\n",
       "      <td>No</td>\n",
       "      <td>No</td>\n",
       "      <td>Yes</td>\n",
       "      <td>No</td>\n",
       "      <td>Yes</td>\n",
       "      <td>No</td>\n",
       "      <td>Yes</td>\n",
       "      <td>Yes</td>\n",
       "      <td>Yes</td>\n",
       "      <td>Positive</td>\n",
       "    </tr>\n",
       "    <tr>\n",
       "      <th>1</th>\n",
       "      <td>58</td>\n",
       "      <td>Male</td>\n",
       "      <td>No</td>\n",
       "      <td>No</td>\n",
       "      <td>No</td>\n",
       "      <td>Yes</td>\n",
       "      <td>No</td>\n",
       "      <td>No</td>\n",
       "      <td>Yes</td>\n",
       "      <td>No</td>\n",
       "      <td>No</td>\n",
       "      <td>No</td>\n",
       "      <td>Yes</td>\n",
       "      <td>No</td>\n",
       "      <td>Yes</td>\n",
       "      <td>No</td>\n",
       "      <td>Positive</td>\n",
       "    </tr>\n",
       "    <tr>\n",
       "      <th>2</th>\n",
       "      <td>41</td>\n",
       "      <td>Male</td>\n",
       "      <td>Yes</td>\n",
       "      <td>No</td>\n",
       "      <td>No</td>\n",
       "      <td>Yes</td>\n",
       "      <td>Yes</td>\n",
       "      <td>No</td>\n",
       "      <td>No</td>\n",
       "      <td>Yes</td>\n",
       "      <td>No</td>\n",
       "      <td>Yes</td>\n",
       "      <td>No</td>\n",
       "      <td>Yes</td>\n",
       "      <td>Yes</td>\n",
       "      <td>No</td>\n",
       "      <td>Positive</td>\n",
       "    </tr>\n",
       "    <tr>\n",
       "      <th>3</th>\n",
       "      <td>45</td>\n",
       "      <td>Male</td>\n",
       "      <td>No</td>\n",
       "      <td>No</td>\n",
       "      <td>Yes</td>\n",
       "      <td>Yes</td>\n",
       "      <td>Yes</td>\n",
       "      <td>Yes</td>\n",
       "      <td>No</td>\n",
       "      <td>Yes</td>\n",
       "      <td>No</td>\n",
       "      <td>Yes</td>\n",
       "      <td>No</td>\n",
       "      <td>No</td>\n",
       "      <td>No</td>\n",
       "      <td>No</td>\n",
       "      <td>Positive</td>\n",
       "    </tr>\n",
       "    <tr>\n",
       "      <th>4</th>\n",
       "      <td>60</td>\n",
       "      <td>Male</td>\n",
       "      <td>Yes</td>\n",
       "      <td>Yes</td>\n",
       "      <td>Yes</td>\n",
       "      <td>Yes</td>\n",
       "      <td>Yes</td>\n",
       "      <td>No</td>\n",
       "      <td>Yes</td>\n",
       "      <td>Yes</td>\n",
       "      <td>Yes</td>\n",
       "      <td>Yes</td>\n",
       "      <td>Yes</td>\n",
       "      <td>Yes</td>\n",
       "      <td>Yes</td>\n",
       "      <td>Yes</td>\n",
       "      <td>Positive</td>\n",
       "    </tr>\n",
       "  </tbody>\n",
       "</table>\n",
       "</div>"
      ],
      "text/plain": [
       "   Age Gender Polyuria Polydipsia sudden weight loss weakness Polyphagia  \\\n",
       "0   40   Male       No        Yes                 No      Yes         No   \n",
       "1   58   Male       No         No                 No      Yes         No   \n",
       "2   41   Male      Yes         No                 No      Yes        Yes   \n",
       "3   45   Male       No         No                Yes      Yes        Yes   \n",
       "4   60   Male      Yes        Yes                Yes      Yes        Yes   \n",
       "\n",
       "  Genital thrush visual blurring Itching Irritability delayed healing  \\\n",
       "0             No              No     Yes           No             Yes   \n",
       "1             No             Yes      No           No              No   \n",
       "2             No              No     Yes           No             Yes   \n",
       "3            Yes              No     Yes           No             Yes   \n",
       "4             No             Yes     Yes          Yes             Yes   \n",
       "\n",
       "  partial paresis muscle stiffness Alopecia Obesity     class  \n",
       "0              No              Yes      Yes     Yes  Positive  \n",
       "1             Yes               No      Yes      No  Positive  \n",
       "2              No              Yes      Yes      No  Positive  \n",
       "3              No               No       No      No  Positive  \n",
       "4             Yes              Yes      Yes     Yes  Positive  "
      ]
     },
     "execution_count": 111,
     "metadata": {},
     "output_type": "execute_result"
    }
   ],
   "source": [
    "#Load Dataset file\n",
    "df = pd.read_csv('Data/diabetes_data_upload.csv')\n",
    "#Quick view general data (Data will now be saved into a DataFrame)\n",
    "df.head()"
   ]
  },
  {
   "cell_type": "code",
   "execution_count": 112,
   "metadata": {},
   "outputs": [
    {
     "name": "stdout",
     "output_type": "stream",
     "text": [
      "The dataset has 520 rows and 17 columns\n"
     ]
    }
   ],
   "source": [
    "print(f'The dataset has {df.shape[0]} rows and {df.shape[1]} columns')\n",
    "#We can see that the Dataset has 520 rows and 17 columns"
   ]
  },
  {
   "cell_type": "code",
   "execution_count": 113,
   "metadata": {},
   "outputs": [
    {
     "data": {
      "text/plain": [
       "Index(['Age', 'Gender', 'Polyuria', 'Polydipsia', 'sudden weight loss',\n",
       "       'weakness', 'Polyphagia', 'Genital thrush', 'visual blurring',\n",
       "       'Itching', 'Irritability', 'delayed healing', 'partial paresis',\n",
       "       'muscle stiffness', 'Alopecia', 'Obesity', 'class'],\n",
       "      dtype='object')"
      ]
     },
     "execution_count": 113,
     "metadata": {},
     "output_type": "execute_result"
    }
   ],
   "source": [
    "#We will now show the meanings of these columns\n",
    "df.columns"
   ]
  },
  {
   "cell_type": "code",
   "execution_count": 114,
   "metadata": {},
   "outputs": [
    {
     "name": "stdout",
     "output_type": "stream",
     "text": [
      "Gender has 2 unique values, They are: ['Male' 'Female']\n",
      "Polyuria has 2 unique values, They are: ['No' 'Yes']\n",
      "Polydipsia has 2 unique values, They are: ['Yes' 'No']\n",
      "sudden weight loss has 2 unique values, They are: ['No' 'Yes']\n",
      "weakness has 2 unique values, They are: ['Yes' 'No']\n",
      "Polyphagia has 2 unique values, They are: ['No' 'Yes']\n",
      "Genital thrush has 2 unique values, They are: ['No' 'Yes']\n",
      "visual blurring has 2 unique values, They are: ['No' 'Yes']\n",
      "Itching has 2 unique values, They are: ['Yes' 'No']\n",
      "Irritability has 2 unique values, They are: ['No' 'Yes']\n",
      "delayed healing has 2 unique values, They are: ['Yes' 'No']\n",
      "partial paresis has 2 unique values, They are: ['No' 'Yes']\n",
      "muscle stiffness has 2 unique values, They are: ['Yes' 'No']\n",
      "Alopecia has 2 unique values, They are: ['Yes' 'No']\n",
      "Obesity has 2 unique values, They are: ['Yes' 'No']\n",
      "class has 2 unique values, They are: ['Positive' 'Negative']\n"
     ]
    }
   ],
   "source": [
    "#Print Values appropriate to column\n",
    "for i in df.columns:\n",
    "    if len(df[i].unique()) < 10:\n",
    "        print(f'{i} has {len(df[i].unique())} unique values, They are: {df[i].unique()}')"
   ]
  },
  {
   "cell_type": "code",
   "execution_count": 115,
   "metadata": {},
   "outputs": [
    {
     "name": "stdout",
     "output_type": "stream",
     "text": [
      "% of people age 45 and under is  0.44\n",
      "% of people age 55 and under is  0.73\n",
      "% of people age 75 and under is  0.99\n"
     ]
    }
   ],
   "source": [
    "#Number of people in Dataset <= age 45\n",
    "fortyFive = df[df.Age<=45].shape[0]\n",
    "#Show Data regarding above\n",
    "print('% of people age 45 and under is ', round(fortyFive/df.shape[0],2))\n",
    "\n",
    "#Number of people in Dataset <= age 55\n",
    "fiftyFive = df[df.Age<=55].shape[0]\n",
    "#Show Data regarding above\n",
    "print('% of people age 55 and under is ', round(fiftyFive/df.shape[0],2))\n",
    "\n",
    "#Number of people in Dataset <= age 75\n",
    "seventyFive = df[df.Age<=75].shape[0]\n",
    "#Show Data regarding above\n",
    "print('% of people age 75 and under is ', round(seventyFive/df.shape[0],2))"
   ]
  },
  {
   "cell_type": "code",
   "execution_count": 116,
   "metadata": {},
   "outputs": [
    {
     "data": {
      "text/plain": [
       "Positive    320\n",
       "Negative    200\n",
       "Name: class, dtype: int64"
      ]
     },
     "execution_count": 116,
     "metadata": {},
     "output_type": "execute_result"
    }
   ],
   "source": [
    "#Class Distribution\n",
    "df['class'].value_counts()\n",
    "#We can see that there are 320 Positive cases and\n",
    "#200 negative cases within the Dataset"
   ]
  },
  {
   "cell_type": "code",
   "execution_count": 117,
   "metadata": {},
   "outputs": [
    {
     "data": {
      "text/plain": [
       "Male      328\n",
       "Female    192\n",
       "Name: Gender, dtype: int64"
      ]
     },
     "execution_count": 117,
     "metadata": {},
     "output_type": "execute_result"
    }
   ],
   "source": [
    "df['Gender'].value_counts()\n",
    "#We can see that the majority of Patiens within the Dataset are males"
   ]
  },
  {
   "cell_type": "code",
   "execution_count": 118,
   "metadata": {},
   "outputs": [
    {
     "data": {
      "image/png": "[encoded data removed]",
      "text/plain": [
       "<Figure size 648x432 with 1 Axes>"
      ]
     },
     "metadata": {},
     "output_type": "display_data"
    }
   ],
   "source": [
    "#Visualise data\n",
    "sns.set_style('darkgrid')\n",
    "sns.set_palette('Set2')\n",
    "\n",
    "#Make Copy of Dataset\n",
    "dfC = df.copy()\n",
    "\n",
    "#Set Height and width of graph (w,h)\n",
    "sns.set(rc={'figure.figsize':(9,6)})\n",
    "\n",
    "#Set information to be plotted\n",
    "sns.countplot(data=dfC, x='class', hue='Gender')\n",
    "plt.title('class v/s Gender\\n')\n",
    "plt.show()\n"
   ]
  },
  {
   "cell_type": "code",
   "execution_count": 119,
   "metadata": {},
   "outputs": [
    {
     "data": {
      "text/html": [
       "<div>\n",
       "<style scoped>\n",
       "    .dataframe tbody tr th:only-of-type {\n",
       "        vertical-align: middle;\n",
       "    }\n",
       "\n",
       "    .dataframe tbody tr th {\n",
       "        vertical-align: top;\n",
       "    }\n",
       "\n",
       "    .dataframe thead th {\n",
       "        text-align: right;\n",
       "    }\n",
       "</style>\n",
       "<table border=\"1\" class=\"dataframe\">\n",
       "  <thead>\n",
       "    <tr style=\"text-align: right;\">\n",
       "      <th></th>\n",
       "      <th></th>\n",
       "      <th>Age</th>\n",
       "    </tr>\n",
       "    <tr>\n",
       "      <th>Gender</th>\n",
       "      <th>class</th>\n",
       "      <th></th>\n",
       "    </tr>\n",
       "  </thead>\n",
       "  <tbody>\n",
       "    <tr>\n",
       "      <th rowspan=\"2\" valign=\"top\">Female</th>\n",
       "      <th>Negative</th>\n",
       "      <td>46.315789</td>\n",
       "    </tr>\n",
       "    <tr>\n",
       "      <th>Positive</th>\n",
       "      <td>47.109827</td>\n",
       "    </tr>\n",
       "    <tr>\n",
       "      <th rowspan=\"2\" valign=\"top\">Male</th>\n",
       "      <th>Negative</th>\n",
       "      <td>46.364641</td>\n",
       "    </tr>\n",
       "    <tr>\n",
       "      <th>Positive</th>\n",
       "      <td>51.380952</td>\n",
       "    </tr>\n",
       "  </tbody>\n",
       "</table>\n",
       "</div>"
      ],
      "text/plain": [
       "                       Age\n",
       "Gender class              \n",
       "Female Negative  46.315789\n",
       "       Positive  47.109827\n",
       "Male   Negative  46.364641\n",
       "       Positive  51.380952"
      ]
     },
     "execution_count": 119,
     "metadata": {},
     "output_type": "execute_result"
    }
   ],
   "source": [
    "df.groupby(['Gender','class']).mean()"
   ]
  },
  {
   "cell_type": "code",
   "execution_count": 120,
   "metadata": {},
   "outputs": [
    {
     "data": {
      "text/plain": [
       "Age                   0\n",
       "Gender                0\n",
       "Polyuria              0\n",
       "Polydipsia            0\n",
       "sudden weight loss    0\n",
       "weakness              0\n",
       "Polyphagia            0\n",
       "Genital thrush        0\n",
       "visual blurring       0\n",
       "Itching               0\n",
       "Irritability          0\n",
       "delayed healing       0\n",
       "partial paresis       0\n",
       "muscle stiffness      0\n",
       "Alopecia              0\n",
       "Obesity               0\n",
       "class                 0\n",
       "dtype: int64"
      ]
     },
     "execution_count": 120,
     "metadata": {},
     "output_type": "execute_result"
    }
   ],
   "source": [
    "#Check for Missing Values\n",
    "df.isnull().sum()"
   ]
  },
  {
   "cell_type": "code",
   "execution_count": 121,
   "metadata": {},
   "outputs": [
    {
     "name": "stdout",
     "output_type": "stream",
     "text": [
      "48\n"
     ]
    }
   ],
   "source": [
    "#Compute Mean value of Age (verify there are no missing values)\n",
    "age_mean = round(df['Age'].mean())\n",
    "#Assign mean to potentially missing values\n",
    "df['Age'].fillna(age_mean, inplace = True)\n",
    "print(age_mean)"
   ]
  },
  {
   "cell_type": "markdown",
   "metadata": {},
   "source": [
    "# Support Vector Machine Model"
   ]
  },
  {
   "cell_type": "code",
   "execution_count": 122,
   "metadata": {},
   "outputs": [],
   "source": [
    "#First we need to replace string values into usable values\n",
    "df = df.replace({'Yes': 1, 'No' : 0})\n",
    "df = df.replace({'Male': 1, 'Female': 0})\n",
    "df = df.replace({'Positive': 1, 'Negative': 0})\n",
    "#Store dataframe in X apart from 'class' Column\n",
    "X = df.drop('class', axis=1)\n",
    "#Only 'class' column being stored in y\n",
    "y= df['class']"
   ]
  },
  {
   "cell_type": "code",
   "execution_count": 164,
   "metadata": {},
   "outputs": [],
   "source": [
    "#Make 20% of data for testing\n",
    "X_train_svm, X_test_svm, y_train_svm, y_test_svm = train_test_split(X,y, test_size = 0.2, random_state = 0)"
   ]
  },
  {
   "cell_type": "code",
   "execution_count": 165,
   "metadata": {},
   "outputs": [
    {
     "data": {
      "text/plain": [
       "SVC(kernel='linear')"
      ]
     },
     "execution_count": 165,
     "metadata": {},
     "output_type": "execute_result"
    }
   ],
   "source": [
    "svclassifier = SVC(kernel='linear')\n",
    "#Use the 'fit' method to train the algorithm\n",
    "svclassifier.fit(X_train_svm, y_train_svm)"
   ]
  },
  {
   "cell_type": "code",
   "execution_count": 168,
   "metadata": {},
   "outputs": [],
   "source": [
    "#Make a prediction\n",
    "y_pred_svm = svclassifier.predict(X_test_svm)\n",
    "#print(y_pred)"
   ]
  },
  {
   "cell_type": "code",
   "execution_count": 169,
   "metadata": {},
   "outputs": [],
   "source": [
    "#Dictionary & DF creation to check correct predictions\n",
    "\n",
    "dic_svm = {'Actual': actual,\n",
    "         'Prediction': y_pred_svm,\n",
    "         'correct_prediction':0\n",
    "         }\n",
    "result = pd.DataFrame(dic_svm)\n",
    "\n",
    "#Update correct_prediction values to 1 if the prediction is correct\n",
    "def checkCorrectSvm(x,y):\n",
    "    if x==y:\n",
    "        return 1\n",
    "    else:\n",
    "        return 0\n",
    "result['correct_prediction'] = result.apply(lambda x: checkCorrect(x.Actual, x.Prediction), axis=1)"
   ]
  },
  {
   "cell_type": "code",
   "execution_count": 171,
   "metadata": {},
   "outputs": [],
   "source": [
    "#result[result.correct_prediction==1]\n",
    "#result[result.correct_prediction==0]\n",
    "#print(f'The model Accuracy on Test Data is {len(result[result.correct_prediction==1])/len(result)}')"
   ]
  },
  {
   "cell_type": "code",
   "execution_count": 202,
   "metadata": {},
   "outputs": [
    {
     "name": "stdout",
     "output_type": "stream",
     "text": [
      "              precision    recall  f1-score   support\n",
      "\n",
      "           0       0.95      0.93      0.94        40\n",
      "           1       0.95      0.97      0.96        64\n",
      "\n",
      "    accuracy                           0.95       104\n",
      "   macro avg       0.95      0.95      0.95       104\n",
      "weighted avg       0.95      0.95      0.95       104\n",
      "\n"
     ]
    }
   ],
   "source": [
    "#Evaluate the algorithm\n",
    "#print(confusion_matrix(y_test,y_pred))\n",
    "#We will generate a classification report to view our results\n",
    "print(classification_report(y_test_svm,y_pred_svm))"
   ]
  },
  {
   "cell_type": "code",
   "execution_count": 211,
   "metadata": {},
   "outputs": [
    {
     "name": "stdout",
     "output_type": "stream",
     "text": [
      "Precision score: 0.9538461538461539\n",
      "Recall score: 0.96875\n",
      "F1 score: 0.9612403100775193\n"
     ]
    }
   ],
   "source": [
    "#We will now print a more comprehendable accuracy score\n",
    "\n",
    "#Precision Score\n",
    "print(\"Precision score: {}\".format(precision_score(y_test_svm,y_pred_svm)))\n",
    "\n",
    "#Recall Score\n",
    "print(\"Recall score: {}\".format(recall_score(y_test_svm,y_pred_svm)))\n",
    "\n",
    "#F1 Score\n",
    "print(\"F1 score: {}\".format(f1_score(y_test_svm,y_pred_svm)))"
   ]
  },
  {
   "cell_type": "markdown",
   "metadata": {},
   "source": [
    "### Support Vector Machine Conclusion\n",
    "I will break down the above report into each classifier for clarity.\n",
    "\n",
    "#### Precision Score\n",
    "The 'Precision' Score tells us which percent of our predictions were correct. The formula for this classifier comes down to the ratio of true positives to the sum of True & False positives.\n",
    "Precision = TP/(TP+FP). As we can see from the above code, our precision code sits at around 95% accuracy.\n",
    "\n",
    "#### Recall Score\n",
    "The 'Recall' Score tells us the percent of positive cases we were able to catch. The formula for this classifier revolves around the ratio of TP to the sum of TP and FN.\n",
    "Recall = TP/(TP+FN). As we can see from the above code, our Recall code sits at around 96% accuracy.\n",
    "\n",
    "#### F1 Score\n",
    "The 'F1' Score tells us the percent of positive predictions were correct. This score can also be seen as the mean between the Precision and Recall scores. The formula for this classifier is as follows:\n",
    "F1 = 2*(Recall * Precision)/(Recall + Precision). Our F1 Score comes in at 0.96."
   ]
  },
  {
   "cell_type": "markdown",
   "metadata": {},
   "source": [
    "## Logistic Regression Model"
   ]
  },
  {
   "cell_type": "code",
   "execution_count": 136,
   "metadata": {},
   "outputs": [],
   "source": [
    "#Store dataframe in X apart from 'class' Column\n",
    "X = df.drop('class', axis=1)\n",
    "#Only 'class' column being stored in y\n",
    "y= df['class']"
   ]
  },
  {
   "cell_type": "code",
   "execution_count": 176,
   "metadata": {},
   "outputs": [],
   "source": [
    "#Split data into training & testing\n",
    "X_train_lg, X_test_lg, y_train_lg, y_test_lg = train_test_split(X,y, test_size=0.2, random_state = 0)"
   ]
  },
  {
   "cell_type": "code",
   "execution_count": 177,
   "metadata": {},
   "outputs": [],
   "source": [
    "#Normalize the data (Reduce nosie)\n",
    "normalized_X_train = preprocessing.normalize(X_train_lg)\n",
    "normalized_X_test = preprocessing.normalize(X_test_lg)"
   ]
  },
  {
   "cell_type": "code",
   "execution_count": 178,
   "metadata": {},
   "outputs": [
    {
     "data": {
      "text/plain": [
       "LogisticRegression(max_iter=3000)"
      ]
     },
     "execution_count": 178,
     "metadata": {},
     "output_type": "execute_result"
    }
   ],
   "source": [
    "#We will now fit the model\n",
    "lg_model = LogisticRegression(solver='lbfgs', max_iter=3000)\n",
    "lg_model.fit(X_train_lg,y_train_lg)"
   ]
  },
  {
   "cell_type": "code",
   "execution_count": 185,
   "metadata": {},
   "outputs": [],
   "source": [
    "#We will now make a predictions based on the fitted model\n",
    "y_pred_lg = lg_model.predict(X_test_lg)\n",
    "actual = y_test_lg"
   ]
  },
  {
   "cell_type": "code",
   "execution_count": 186,
   "metadata": {},
   "outputs": [],
   "source": [
    "#Dictionary & DF creation to check correct predictions\n",
    "\n",
    "dic_lg = {'Actual': actual,\n",
    "         'Prediction': y_pred,\n",
    "         'correct_prediction':0\n",
    "         }\n",
    "result = pd.DataFrame(dic_lg)\n",
    "\n",
    "#Update correct_prediction values to 1 if the prediction is correct\n",
    "def checkCorrectLg(x,y):\n",
    "    if x==y:\n",
    "        return 1\n",
    "    else:\n",
    "        return 0\n",
    "result['correct_prediction'] = result.apply(lambda x: checkCorrect(x.Actual, x.Prediction), axis=1)"
   ]
  },
  {
   "cell_type": "code",
   "execution_count": 206,
   "metadata": {},
   "outputs": [
    {
     "name": "stdout",
     "output_type": "stream",
     "text": [
      "              precision    recall  f1-score   support\n",
      "\n",
      "           0       0.95      0.93      0.94        40\n",
      "           1       0.95      0.97      0.96        64\n",
      "\n",
      "    accuracy                           0.95       104\n",
      "   macro avg       0.95      0.95      0.95       104\n",
      "weighted avg       0.95      0.95      0.95       104\n",
      "\n"
     ]
    }
   ],
   "source": [
    "#We will generate a classification report to view our results\n",
    "print(classification_report(y_test_lg,y_pred_lg))"
   ]
  },
  {
   "cell_type": "code",
   "execution_count": 187,
   "metadata": {},
   "outputs": [
    {
     "name": "stdout",
     "output_type": "stream",
     "text": [
      "The model Accuracy on Test Data is 0.9519230769230769\n",
      "Precision score: 0.9538461538461539\n",
      "Recall score: 0.96875\n",
      "F1 score: 0.9612403100775193\n"
     ]
    }
   ],
   "source": [
    "#result[result.correct_prediction==1]\n",
    "#result[result.correct_prediction==0]\n",
    "\n",
    "print(f'The model Accuracy on Test Data is {len(result[result.correct_prediction==1])/len(result)}')\n",
    "\n",
    "#Precision Score\n",
    "print(\"Precision score: {}\".format(precision_score(y_test_lg,y_pred_lg)))\n",
    "\n",
    "#Recall Score\n",
    "print(\"Recall score: {}\".format(recall_score(y_test_lg,y_pred_lg)))\n",
    "\n",
    "#F1 Score\n",
    "print(\"F1 score: {}\".format(f1_score(y_test_lg,y_pred_lg)))\n"
   ]
  },
  {
   "cell_type": "markdown",
   "metadata": {},
   "source": [
    "### Logistic Regression Conclusion\n",
    "Checking the accuracy scores compared to our Support Vector Machine model, it appears that the results remain the same. This applies to the Precision score, Recall score & F1 score."
   ]
  },
  {
   "cell_type": "markdown",
   "metadata": {},
   "source": [
    "## Naive Bayes Model"
   ]
  },
  {
   "cell_type": "code",
   "execution_count": 188,
   "metadata": {},
   "outputs": [],
   "source": [
    "#Store dataframe in X apart from 'class' Column\n",
    "X = df.drop('class', axis=1)\n",
    "#Only 'class' column being stored in y\n",
    "y= df['class']"
   ]
  },
  {
   "cell_type": "code",
   "execution_count": 189,
   "metadata": {},
   "outputs": [],
   "source": [
    "#Split Dataset into training & Test set\n",
    "X_train_nb, X_test_nb, y_train_nb, y_test_nb = train_test_split(X,y, test_size=0.2, random_state=0)"
   ]
  },
  {
   "cell_type": "code",
   "execution_count": 199,
   "metadata": {},
   "outputs": [
    {
     "data": {
      "text/plain": [
       "GaussianNB()"
      ]
     },
     "execution_count": 199,
     "metadata": {},
     "output_type": "execute_result"
    }
   ],
   "source": [
    "#Creating Naive Bayes Object\n",
    "classifier_nb = GaussianNB()\n",
    "classifier_nb.fit(X_train_nb,y_train_nb)"
   ]
  },
  {
   "cell_type": "code",
   "execution_count": 207,
   "metadata": {},
   "outputs": [
    {
     "name": "stdout",
     "output_type": "stream",
     "text": [
      "              precision    recall  f1-score   support\n",
      "\n",
      "           0       0.97      0.85      0.91        40\n",
      "           1       0.91      0.98      0.95        64\n",
      "\n",
      "    accuracy                           0.93       104\n",
      "   macro avg       0.94      0.92      0.93       104\n",
      "weighted avg       0.94      0.93      0.93       104\n",
      "\n"
     ]
    }
   ],
   "source": [
    "#Predict Test set\n",
    "y_pred_nb = classifier_nb.predict(X_test_nb)\n",
    "#NB Confusion Matrix\n",
    "nb_matrix = confusion_matrix(y_test_nb,y_pred_nb)\n",
    "#Display Confusion Matrix\n",
    "#print(nb_matrix)\n",
    "#We will generate a classification report to view our results\n",
    "print(classification_report(y_test_nb,y_pred_nb))"
   ]
  },
  {
   "cell_type": "code",
   "execution_count": 210,
   "metadata": {},
   "outputs": [
    {
     "name": "stdout",
     "output_type": "stream",
     "text": [
      "The model Accuracy on Test Data is 0.9519230769230769\n",
      "Precision score: 0.9130434782608695\n",
      "Recall score: 0.984375\n",
      "F1 score: 0.9473684210526315\n"
     ]
    }
   ],
   "source": [
    "#We will now print a more comprehendable accuracy score\n",
    "\n",
    "\n",
    "#Precision Score\n",
    "print(\"Precision score: {}\".format(precision_score(y_test_nb,y_pred_nb)))\n",
    "\n",
    "#Recall Score\n",
    "print(\"Recall score: {}\".format(recall_score(y_test_nb,y_pred_nb)))\n",
    "\n",
    "#F1 Score\n",
    "print(\"F1 score: {}\".format(f1_score(y_test_nb,y_pred_nb)))"
   ]
  },
  {
   "cell_type": "markdown",
   "metadata": {},
   "source": [
    "### Naive Bayes Conclusion\n",
    "Just like the previous models, I will go into more depth about the various clasifiers below.\n",
    "\n",
    "#### Precision Score\n",
    "The 'Precision' Score in the Naive Bayes model comes in at 91%, this is the lowest accuracy in comparison to the other 2 models used.\n",
    "\n",
    "#### Recall Score\n",
    "The 'Recall' Score in this model comes in at 98%. Contrary to the Precision Score, this is the highest Accuracy of Recall in comparison to the other 2 models.\n",
    "\n",
    "#### F1 Score\n",
    "The 'F1' Score in this model scores a 0.94. This is the lowest score compared to the other 2 models used."
   ]
  },
  {
   "cell_type": "markdown",
   "metadata": {},
   "source": [
    "## Model Efficiency Conclusion\n",
    "\n",
    "### Models Used\n",
    "I have used a total of 3 models for this project, these models are:\n",
    "\n",
    "1.Support Vector Machine Model.\n",
    "\n",
    "2.Logistic Regression Model.\n",
    "\n",
    "3.Naive Bayes Model.\n",
    "\n",
    "### Most efficient model\n",
    "From my research I have noticed that the Support Vector Machine Model & the Logistic Regression Model share the same accuracy, perhaps with more fine-tuning, there will be a superior model that best fits this Dataset.\n",
    "\n",
    "While 'Naive Bayes' had the highest Recall score out of the bunch, the Precision score & F1 score were lacking behind the other models.\n"
   ]
  },
  {
   "cell_type": "markdown",
   "metadata": {},
   "source": [
    "# Improvement of the Support Vector Machine Model\n",
    "Now that we have established the most efficient models for this particular project, I will be fine-tuning one of them to try and improve upon the findings that we had found previously. The model I will be tuning will be the Support Vector Machine Model, as I feel that there are more adjustments that can be made for this specific model.\n",
    "\n",
    "Previous Accuracy Scores:\n",
    "\n",
    "Precision Score: 0.9538461538461539\n",
    "\n",
    "Recall Score: 0.96875\n",
    "\n",
    "F1 Score: 0.9612403100775193"
   ]
  },
  {
   "cell_type": "code",
   "execution_count": null,
   "metadata": {},
   "outputs": [],
   "source": []
  }
 ],
 "metadata": {
  "kernelspec": {
   "display_name": "Python 3",
   "language": "python",
   "name": "python3"
  },
  "language_info": {
   "codemirror_mode": {
    "name": "ipython",
    "version": 3
   },
   "file_extension": ".py",
   "mimetype": "text/x-python",
   "name": "python",
   "nbconvert_exporter": "python",
   "pygments_lexer": "ipython3",
   "version": "3.8.3"
  }
 },
 "nbformat": 4,
 "nbformat_minor": 4
}
